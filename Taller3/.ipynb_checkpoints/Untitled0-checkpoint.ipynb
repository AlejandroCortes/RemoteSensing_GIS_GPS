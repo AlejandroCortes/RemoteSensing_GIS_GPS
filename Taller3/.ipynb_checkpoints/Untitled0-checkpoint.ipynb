{
 "metadata": {
  "name": "",
  "signature": "sha256:c42c02a34952e5a7b375ca77fee9c8d488077232e8c3c3b361f07f5caa1a3d68"
 },
 "nbformat": 3,
 "nbformat_minor": 0,
 "worksheets": []
}